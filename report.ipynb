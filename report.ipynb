{
 "cells": [
  {
   "cell_type": "markdown",
   "metadata": {},
   "source": [
    "# Bioinformatics: project no. 2\n",
    "## CpG islands and DNA methylation analysis\n",
    "## Autor: Jadwiga Słowik"
   ]
  },
  {
   "cell_type": "code",
   "execution_count": 1,
   "metadata": {},
   "outputs": [],
   "source": [
    "import pandas as pd\n",
    "import pybedtools"
   ]
  },
  {
   "cell_type": "markdown",
   "metadata": {},
   "source": [
    "## Task 1:\n",
    "Prepare files with coordinates of CpG islands, Shores, Shelves and Seas in BED format (chrN \\t start \\t end). Remember to consider chromosome boundaries. Please use only autosomal chromosomes"
   ]
  },
  {
   "cell_type": "code",
   "execution_count": 2,
   "metadata": {},
   "outputs": [],
   "source": [
    "bed_col_names = [\"chr\", \"start\", \"end\"]"
   ]
  },
  {
   "cell_type": "code",
   "execution_count": 3,
   "metadata": {},
   "outputs": [
    {
     "name": "stdout",
     "output_type": "stream",
     "text": [
      "['chr1', 'chr2', 'chr3', 'chr4', 'chr5', 'chr6', 'chr7', 'chr8', 'chr9', 'chr10', 'chr11', 'chr12', 'chr13', 'chr14', 'chr15', 'chr16', 'chr17', 'chr18', 'chr19', 'chr20', 'chr21', 'chr22']\n"
     ]
    }
   ],
   "source": [
    "autosomal_chromosomes = [\"chr{}\".format(i) for i in range(1, 23)]\n",
    "print(autosomal_chromosomes)"
   ]
  },
  {
   "cell_type": "markdown",
   "metadata": {},
   "source": [
    "### Prepare coordinates of CpG islands in BED format"
   ]
  },
  {
   "cell_type": "code",
   "execution_count": 4,
   "metadata": {},
   "outputs": [
    {
     "name": "stdout",
     "output_type": "stream",
     "text": [
      "    chr   start     end\n",
      "0  chr1   28735   29810\n",
      "1  chr1  135124  135563\n",
      "2  chr1  327790  328229\n",
      "3  chr1  437151  438164\n",
      "4  chr1  449273  450544\n"
     ]
    },
    {
     "name": "stderr",
     "output_type": "stream",
     "text": [
      "/home/slowik/.local/lib/python3.5/site-packages/pybedtools/bedtool.py:3439: FutureWarning: read_table is deprecated, use read_csv instead, passing sep='\\t'.\n",
      "  return pandas.read_table(self.fn, *args, **kwargs)\n"
     ]
    }
   ],
   "source": [
    "cpg_islands_df = pybedtools.BedTool(\"data/cpgIslandExt.txt.gz\") \\\n",
    "    .to_dataframe(header=None,\n",
    "                  usecols=range(1, len(bed_col_names)+1),\n",
    "                  names=bed_col_names)\n",
    "cpg_islands_df = cpg_islands_df[cpg_islands_df.chr.isin(autosomal_chromosomes)]\n",
    "print(cpg_islands_df.head())"
   ]
  },
  {
   "cell_type": "code",
   "execution_count": 5,
   "metadata": {},
   "outputs": [
    {
     "name": "stdout",
     "output_type": "stream",
     "text": [
      "['chr1' 'chr10' 'chr11' 'chr12' 'chr13' 'chr14' 'chr15' 'chr16' 'chr17'\n",
      " 'chr18' 'chr19' 'chr2' 'chr20' 'chr21' 'chr22' 'chr3' 'chr4' 'chr5'\n",
      " 'chr6' 'chr7' 'chr8' 'chr9']\n"
     ]
    }
   ],
   "source": [
    "print(cpg_islands_df.chr.unique())"
   ]
  },
  {
   "cell_type": "code",
   "execution_count": 6,
   "metadata": {},
   "outputs": [
    {
     "data": {
      "text/plain": [
       "<BedTool(cpg_for_autosomal_chr.bed)>"
      ]
     },
     "execution_count": 6,
     "metadata": {},
     "output_type": "execute_result"
    }
   ],
   "source": [
    "cpg_islands = pybedtools.BedTool.from_dataframe(cpg_islands_df).sort()\n",
    "cpg_islands.saveas(\"./results/cpg_for_autosomal_chr.bed\")"
   ]
  },
  {
   "cell_type": "markdown",
   "metadata": {},
   "source": [
    "### Get chromosomes' sizes"
   ]
  },
  {
   "cell_type": "code",
   "execution_count": 7,
   "metadata": {},
   "outputs": [
    {
     "name": "stdout",
     "output_type": "stream",
     "text": [
      "      chr       size\n",
      "0    chr1  249250621\n",
      "10  chr10  135534747\n",
      "11  chr11  135006516\n",
      "12  chr12  133851895\n",
      "13  chr13  115169878\n",
      "14  chr14  107349540\n",
      "15  chr15  102531392\n",
      "16  chr16   90354753\n",
      "17  chr17   81195210\n",
      "18  chr18   78077248\n",
      "21  chr19   59128983\n",
      "1    chr2  243199373\n",
      "19  chr20   63025520\n",
      "23  chr21   48129895\n",
      "22  chr22   51304566\n",
      "2    chr3  198022430\n",
      "3    chr4  191154276\n",
      "4    chr5  180915260\n",
      "5    chr6  171115067\n",
      "6    chr7  159138663\n",
      "8    chr8  146364022\n",
      "9    chr9  141213431\n"
     ]
    }
   ],
   "source": [
    "chr23_sizes_path = \"./results/chr23_sizes\" \n",
    "chr_sizes_path = \"./data/hg19.chrom.sizes\"\n",
    "chr_sizes_df = pd.read_csv(chr_sizes_path, sep=\"\\t\", header=None, names=[\"chr\", \"size\"])\n",
    "chr_sizes_df = chr_sizes_df[chr_sizes_df.chr.isin(autosomal_chromosomes)] \\\n",
    "    .sort_values(by=[\"chr\"])\n",
    "print(chr_sizes_df)\n",
    "chr_sizes_df.to_csv(chr23_sizes_path, sep=\"\\t\", header=None, index=False)"
   ]
  },
  {
   "cell_type": "markdown",
   "metadata": {},
   "source": [
    "### Prepare CpG shores in BED format"
   ]
  },
  {
   "cell_type": "code",
   "execution_count": 8,
   "metadata": {},
   "outputs": [
    {
     "name": "stdout",
     "output_type": "stream",
     "text": [
      "chr1\t26735\t28735\n",
      " chr1\t29810\t31810\n",
      " chr1\t133124\t135124\n",
      " chr1\t135563\t137563\n",
      " chr1\t325790\t327790\n",
      " chr1\t328229\t330229\n",
      " chr1\t435151\t437151\n",
      " chr1\t438164\t440164\n",
      " chr1\t447273\t449273\n",
      " chr1\t450544\t452544\n",
      " None\n"
     ]
    },
    {
     "data": {
      "text/plain": [
       "<BedTool(./results/cpg_shores.bed)>"
      ]
     },
     "execution_count": 8,
     "metadata": {},
     "output_type": "execute_result"
    }
   ],
   "source": [
    "shore_length = 2000\n",
    "cpg_shores = cpg_islands \\\n",
    "    .flank(b=shore_length, g=chr23_sizes_path) \\\n",
    "    .subtract(cpg_islands) \\\n",
    "    .sort() \\\n",
    "    .merge()\n",
    "print(cpg_shores.head())\n",
    "cpg_shores.saveas(\"./results/cpg_shores.bed\")"
   ]
  },
  {
   "cell_type": "markdown",
   "metadata": {},
   "source": [
    "### Compute CpG shelves in BED format"
   ]
  },
  {
   "cell_type": "code",
   "execution_count": 9,
   "metadata": {},
   "outputs": [
    {
     "name": "stdout",
     "output_type": "stream",
     "text": [
      "chr1\t24735\t26735\n",
      " chr1\t31810\t33810\n",
      " chr1\t131124\t133124\n",
      " chr1\t137563\t139563\n",
      " chr1\t323790\t325790\n",
      " chr1\t330229\t332229\n",
      " chr1\t433151\t435151\n",
      " chr1\t440164\t442164\n",
      " chr1\t445273\t447273\n",
      " chr1\t452544\t454544\n",
      " None\n"
     ]
    },
    {
     "data": {
      "text/plain": [
       "<BedTool(./results/cpg_shelves.bed)>"
      ]
     },
     "execution_count": 9,
     "metadata": {},
     "output_type": "execute_result"
    }
   ],
   "source": [
    "shelve_length = 2000\n",
    "cpg_shelves = cpg_islands \\\n",
    "    .slop(b=shore_length, g=chr23_sizes_path) \\\n",
    "    .flank(b=shelve_length, g=chr23_sizes_path) \\\n",
    "    .subtract(cpg_shores) \\\n",
    "    .subtract(cpg_islands) \\\n",
    "    .sort() \\\n",
    "    .merge()\n",
    "print(cpg_shelves.head())\n",
    "cpg_shelves.saveas(\"./results/cpg_shelves.bed\")"
   ]
  },
  {
   "cell_type": "markdown",
   "metadata": {},
   "source": [
    "### Compute CpG seas in BED format"
   ]
  },
  {
   "cell_type": "code",
   "execution_count": 10,
   "metadata": {},
   "outputs": [
    {
     "name": "stdout",
     "output_type": "stream",
     "text": [
      "chr1\t0\t24735\n",
      " chr1\t33810\t131124\n",
      " chr1\t139563\t323790\n",
      " chr1\t332229\t433151\n",
      " chr1\t442164\t445273\n",
      " chr1\t454544\t529219\n",
      " chr1\t538114\t540738\n",
      " chr1\t550649\t709984\n",
      " chr1\t718547\t758416\n",
      " chr1\t767445\t784863\n",
      " None\n"
     ]
    },
    {
     "data": {
      "text/plain": [
       "<BedTool(./results/cpg_seas.bed)>"
      ]
     },
     "execution_count": 10,
     "metadata": {},
     "output_type": "execute_result"
    }
   ],
   "source": [
    "non_sea_length_offset = shore_length + shelve_length\n",
    "cpg_seas = cpg_islands \\\n",
    "    .slop(b=non_sea_length_offset, g=chr23_sizes_path) \\\n",
    "    .sort() \\\n",
    "    .merge() \\\n",
    "    .complement(g=chr23_sizes_path) \\\n",
    "    .sort() \\\n",
    "    .merge()\n",
    "print(cpg_seas.head())\n",
    "cpg_seas.saveas(\"./results/cpg_seas.bed\")"
   ]
  },
  {
   "cell_type": "markdown",
   "metadata": {},
   "source": [
    "## Task 2:\n",
    "Set DNA Methylation coordinates as the middle of its range"
   ]
  },
  {
   "cell_type": "code",
   "execution_count": 11,
   "metadata": {},
   "outputs": [
    {
     "name": "stderr",
     "output_type": "stream",
     "text": [
      "/home/slowik/.local/lib/python3.5/site-packages/pybedtools/bedtool.py:3439: FutureWarning: read_table is deprecated, use read_csv instead, passing sep='\\t'.\n",
      "  return pandas.read_table(self.fn, *args, **kwargs)\n"
     ]
    },
    {
     "data": {
      "text/html": [
       "<div>\n",
       "<style scoped>\n",
       "    .dataframe tbody tr th:only-of-type {\n",
       "        vertical-align: middle;\n",
       "    }\n",
       "\n",
       "    .dataframe tbody tr th {\n",
       "        vertical-align: top;\n",
       "    }\n",
       "\n",
       "    .dataframe thead th {\n",
       "        text-align: right;\n",
       "    }\n",
       "</style>\n",
       "<table border=\"1\" class=\"dataframe\">\n",
       "  <thead>\n",
       "    <tr style=\"text-align: right;\">\n",
       "      <th></th>\n",
       "      <th>chr</th>\n",
       "      <th>start</th>\n",
       "      <th>end</th>\n",
       "    </tr>\n",
       "  </thead>\n",
       "  <tbody>\n",
       "    <tr>\n",
       "      <th>235127</th>\n",
       "      <td>chr1</td>\n",
       "      <td>178986264</td>\n",
       "      <td>178986314</td>\n",
       "    </tr>\n",
       "    <tr>\n",
       "      <th>286771</th>\n",
       "      <td>chr1</td>\n",
       "      <td>2792637</td>\n",
       "      <td>2792687</td>\n",
       "    </tr>\n",
       "    <tr>\n",
       "      <th>286772</th>\n",
       "      <td>chr1</td>\n",
       "      <td>15547652</td>\n",
       "      <td>15547702</td>\n",
       "    </tr>\n",
       "    <tr>\n",
       "      <th>132983</th>\n",
       "      <td>chr1</td>\n",
       "      <td>169679199</td>\n",
       "      <td>169679249</td>\n",
       "    </tr>\n",
       "    <tr>\n",
       "      <th>316341</th>\n",
       "      <td>chr1</td>\n",
       "      <td>59775908</td>\n",
       "      <td>59775958</td>\n",
       "    </tr>\n",
       "  </tbody>\n",
       "</table>\n",
       "</div>"
      ],
      "text/plain": [
       "         chr      start        end\n",
       "235127  chr1  178986264  178986314\n",
       "286771  chr1    2792637    2792687\n",
       "286772  chr1   15547652   15547702\n",
       "132983  chr1  169679199  169679249\n",
       "316341  chr1   59775908   59775958"
      ]
     },
     "execution_count": 11,
     "metadata": {},
     "output_type": "execute_result"
    }
   ],
   "source": [
    "dna_methylation_df = pybedtools.BedTool(\"./data/wgEncodeHaibMethyl450A549Etoh02SitesRep1.bed.gz\") \\\n",
    "    .to_dataframe(header=None,\n",
    "                 usecols=range(0, 3),\n",
    "                 names=bed_col_names) \\\n",
    "    .sort_values(by=[\"chr\"])\n",
    "dna_methylation_df.head()"
   ]
  },
  {
   "cell_type": "code",
   "execution_count": 12,
   "metadata": {},
   "outputs": [
    {
     "data": {
      "text/html": [
       "<div>\n",
       "<style scoped>\n",
       "    .dataframe tbody tr th:only-of-type {\n",
       "        vertical-align: middle;\n",
       "    }\n",
       "\n",
       "    .dataframe tbody tr th {\n",
       "        vertical-align: top;\n",
       "    }\n",
       "\n",
       "    .dataframe thead th {\n",
       "        text-align: right;\n",
       "    }\n",
       "</style>\n",
       "<table border=\"1\" class=\"dataframe\">\n",
       "  <thead>\n",
       "    <tr style=\"text-align: right;\">\n",
       "      <th></th>\n",
       "      <th>chr</th>\n",
       "      <th>start</th>\n",
       "      <th>end</th>\n",
       "      <th>meth</th>\n",
       "    </tr>\n",
       "  </thead>\n",
       "  <tbody>\n",
       "    <tr>\n",
       "      <th>235127</th>\n",
       "      <td>chr1</td>\n",
       "      <td>178986264</td>\n",
       "      <td>178986314</td>\n",
       "      <td>178986289</td>\n",
       "    </tr>\n",
       "    <tr>\n",
       "      <th>286771</th>\n",
       "      <td>chr1</td>\n",
       "      <td>2792637</td>\n",
       "      <td>2792687</td>\n",
       "      <td>2792662</td>\n",
       "    </tr>\n",
       "    <tr>\n",
       "      <th>286772</th>\n",
       "      <td>chr1</td>\n",
       "      <td>15547652</td>\n",
       "      <td>15547702</td>\n",
       "      <td>15547677</td>\n",
       "    </tr>\n",
       "    <tr>\n",
       "      <th>132983</th>\n",
       "      <td>chr1</td>\n",
       "      <td>169679199</td>\n",
       "      <td>169679249</td>\n",
       "      <td>169679224</td>\n",
       "    </tr>\n",
       "    <tr>\n",
       "      <th>316341</th>\n",
       "      <td>chr1</td>\n",
       "      <td>59775908</td>\n",
       "      <td>59775958</td>\n",
       "      <td>59775933</td>\n",
       "    </tr>\n",
       "  </tbody>\n",
       "</table>\n",
       "</div>"
      ],
      "text/plain": [
       "         chr      start        end       meth\n",
       "235127  chr1  178986264  178986314  178986289\n",
       "286771  chr1    2792637    2792687    2792662\n",
       "286772  chr1   15547652   15547702   15547677\n",
       "132983  chr1  169679199  169679249  169679224\n",
       "316341  chr1   59775908   59775958   59775933"
      ]
     },
     "execution_count": 12,
     "metadata": {},
     "output_type": "execute_result"
    }
   ],
   "source": [
    "dna_methylation_df[\"meth\"] = dna_methylation_df.apply(\n",
    "    lambda row: int(row[\"start\"] + (row[\"end\"] - row[\"start\"]) / 2),\n",
    "    axis=1)\n",
    "dna_methylation_df.head()"
   ]
  },
  {
   "cell_type": "code",
   "execution_count": 13,
   "metadata": {},
   "outputs": [],
   "source": [
    "dna_methylation_cpg_path = \"./results/dna_methylation_cpg\"\n",
    "dna_methylation_df.to_csv(dna_methylation_cpg_path, sep=\"\\t\", header=None)"
   ]
  },
  {
   "cell_type": "code",
   "execution_count": null,
   "metadata": {},
   "outputs": [],
   "source": []
  }
 ],
 "metadata": {
  "kernelspec": {
   "display_name": "Python 3",
   "language": "python",
   "name": "python3"
  },
  "language_info": {
   "codemirror_mode": {
    "name": "ipython",
    "version": 3
   },
   "file_extension": ".py",
   "mimetype": "text/x-python",
   "name": "python",
   "nbconvert_exporter": "python",
   "pygments_lexer": "ipython3",
   "version": "3.5.2"
  }
 },
 "nbformat": 4,
 "nbformat_minor": 2
}
