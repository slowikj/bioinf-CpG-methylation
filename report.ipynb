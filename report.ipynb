{
 "cells": [
  {
   "cell_type": "markdown",
   "metadata": {},
   "source": [
    "# Bioinformatics: project no. 2\n",
    "## CpG islands and DNA methylation analysis\n",
    "## Autor: Jadwiga Słowik"
   ]
  },
  {
   "cell_type": "code",
   "execution_count": 1,
   "metadata": {},
   "outputs": [],
   "source": [
    "import pandas as pd\n",
    "import pybedtools"
   ]
  },
  {
   "cell_type": "markdown",
   "metadata": {},
   "source": [
    "## Task 1:\n",
    "Prepare files with coordinates of CpG islands, Shores, Shelves and Seas in BED format (chrN \\t start \\t end). Remember to consider chromosome boundaries. Please use only autosomal chromosomes"
   ]
  },
  {
   "cell_type": "code",
   "execution_count": 2,
   "metadata": {},
   "outputs": [],
   "source": [
    "bed_col_names = [\"chr\", \"start\", \"end\"]"
   ]
  },
  {
   "cell_type": "code",
   "execution_count": 3,
   "metadata": {},
   "outputs": [
    {
     "name": "stdout",
     "output_type": "stream",
     "text": [
      "['chr1', 'chr2', 'chr3', 'chr4', 'chr5', 'chr6', 'chr7', 'chr8', 'chr9', 'chr10', 'chr11', 'chr12', 'chr13', 'chr14', 'chr15', 'chr16', 'chr17', 'chr18', 'chr19', 'chr20', 'chr21', 'chr22']\n"
     ]
    }
   ],
   "source": [
    "autosomal_chromosomes = [\"chr{}\".format(i) for i in range(1, 23)]\n",
    "print(autosomal_chromosomes)"
   ]
  },
  {
   "cell_type": "markdown",
   "metadata": {},
   "source": [
    "### Prepare coordinates of CpG islands in BED format"
   ]
  },
  {
   "cell_type": "code",
   "execution_count": 4,
   "metadata": {},
   "outputs": [
    {
     "name": "stdout",
     "output_type": "stream",
     "text": [
      "    chr   start     end\n",
      "0  chr1   28735   29810\n",
      "1  chr1  135124  135563\n",
      "2  chr1  327790  328229\n",
      "3  chr1  437151  438164\n",
      "4  chr1  449273  450544\n"
     ]
    },
    {
     "name": "stderr",
     "output_type": "stream",
     "text": [
      "/home/slowik/.local/lib/python3.5/site-packages/pybedtools/bedtool.py:3439: FutureWarning: read_table is deprecated, use read_csv instead, passing sep='\\t'.\n",
      "  return pandas.read_table(self.fn, *args, **kwargs)\n"
     ]
    }
   ],
   "source": [
    "cpg_islands_df = pybedtools.BedTool(\"data/cpgIslandExt.txt.gz\") \\\n",
    "    .to_dataframe(header=None,\n",
    "                  usecols=range(1, len(bed_col_names)+1),\n",
    "                  names=bed_col_names)\n",
    "cpg_islands_df = cpg_islands_df[cpg_islands_df.chr.isin(autosomal_chromosomes)]\n",
    "print(cpg_islands_df.head())"
   ]
  },
  {
   "cell_type": "code",
   "execution_count": 5,
   "metadata": {},
   "outputs": [
    {
     "name": "stdout",
     "output_type": "stream",
     "text": [
      "['chr1' 'chr10' 'chr11' 'chr12' 'chr13' 'chr14' 'chr15' 'chr16' 'chr17'\n",
      " 'chr18' 'chr19' 'chr2' 'chr20' 'chr21' 'chr22' 'chr3' 'chr4' 'chr5'\n",
      " 'chr6' 'chr7' 'chr8' 'chr9']\n"
     ]
    }
   ],
   "source": [
    "print(cpg_islands_df.chr.unique())"
   ]
  },
  {
   "cell_type": "code",
   "execution_count": 6,
   "metadata": {},
   "outputs": [
    {
     "data": {
      "text/plain": [
       "<BedTool(./results/cpg_for_autosomal_chr.bed)>"
      ]
     },
     "execution_count": 6,
     "metadata": {},
     "output_type": "execute_result"
    }
   ],
   "source": [
    "cpg_islands = pybedtools.BedTool.from_dataframe(cpg_islands_df).sort()\n",
    "cpg_islands.saveas(\"./results/cpg_for_autosomal_chr.bed\")"
   ]
  },
  {
   "cell_type": "markdown",
   "metadata": {},
   "source": [
    "### Get chromosomes' sizes"
   ]
  },
  {
   "cell_type": "code",
   "execution_count": 7,
   "metadata": {},
   "outputs": [
    {
     "name": "stdout",
     "output_type": "stream",
     "text": [
      "      chr       size\n",
      "0    chr1  249250621\n",
      "10  chr10  135534747\n",
      "11  chr11  135006516\n",
      "12  chr12  133851895\n",
      "13  chr13  115169878\n",
      "14  chr14  107349540\n",
      "15  chr15  102531392\n",
      "16  chr16   90354753\n",
      "17  chr17   81195210\n",
      "18  chr18   78077248\n",
      "21  chr19   59128983\n",
      "1    chr2  243199373\n",
      "19  chr20   63025520\n",
      "23  chr21   48129895\n",
      "22  chr22   51304566\n",
      "2    chr3  198022430\n",
      "3    chr4  191154276\n",
      "4    chr5  180915260\n",
      "5    chr6  171115067\n",
      "6    chr7  159138663\n",
      "8    chr8  146364022\n",
      "9    chr9  141213431\n"
     ]
    }
   ],
   "source": [
    "chr22_sizes_path = \"./results/chr22_sizes\" \n",
    "chr_sizes_path = \"./data/hg19.chrom.sizes\"\n",
    "chr_sizes_df = pd.read_csv(chr_sizes_path, sep=\"\\t\", header=None, names=[\"chr\", \"size\"])\n",
    "chr_sizes_df = chr_sizes_df[chr_sizes_df.chr.isin(autosomal_chromosomes)] \\\n",
    "    .sort_values(by=[\"chr\"])\n",
    "print(chr_sizes_df)\n",
    "chr_sizes_df.to_csv(chr22_sizes_path, sep=\"\\t\", header=None, index=False)"
   ]
  },
  {
   "cell_type": "markdown",
   "metadata": {},
   "source": [
    "### Prepare CpG shores in BED format"
   ]
  },
  {
   "cell_type": "code",
   "execution_count": 8,
   "metadata": {},
   "outputs": [
    {
     "name": "stdout",
     "output_type": "stream",
     "text": [
      "chr1\t26735\t28735\n",
      " chr1\t29810\t31810\n",
      " chr1\t133124\t135124\n",
      " chr1\t135563\t137563\n",
      " chr1\t325790\t327790\n",
      " chr1\t328229\t330229\n",
      " chr1\t435151\t437151\n",
      " chr1\t438164\t440164\n",
      " chr1\t447273\t449273\n",
      " chr1\t450544\t452544\n",
      " None\n"
     ]
    },
    {
     "data": {
      "text/plain": [
       "<BedTool(./results/cpg_shores.bed)>"
      ]
     },
     "execution_count": 8,
     "metadata": {},
     "output_type": "execute_result"
    }
   ],
   "source": [
    "shore_length = 2000\n",
    "cpg_shores = cpg_islands \\\n",
    "    .flank(b=shore_length, g=chr22_sizes_path) \\\n",
    "    .subtract(cpg_islands) \\\n",
    "    .sort() \\\n",
    "    .merge()\n",
    "print(cpg_shores.head())\n",
    "cpg_shores.saveas(\"./results/cpg_shores.bed\")"
   ]
  },
  {
   "cell_type": "markdown",
   "metadata": {},
   "source": [
    "### Compute CpG shelves in BED format"
   ]
  },
  {
   "cell_type": "code",
   "execution_count": 25,
   "metadata": {},
   "outputs": [
    {
     "name": "stdout",
     "output_type": "stream",
     "text": [
      "chr1\t24735\t26735\n",
      " chr1\t31810\t33810\n",
      " chr1\t131124\t133124\n",
      " chr1\t137563\t139563\n",
      " chr1\t323790\t325790\n",
      " chr1\t330229\t332229\n",
      " chr1\t433151\t435151\n",
      " chr1\t440164\t442164\n",
      " chr1\t445273\t447273\n",
      " chr1\t452544\t454544\n",
      " None\n"
     ]
    },
    {
     "data": {
      "text/plain": [
       "<BedTool(./results/cpg_shelves.bed)>"
      ]
     },
     "execution_count": 25,
     "metadata": {},
     "output_type": "execute_result"
    }
   ],
   "source": [
    "shelve_length = 2000\n",
    "cpg_shelves = cpg_islands \\\n",
    "    .slop(b=shore_length, g=chr22_sizes_path) \\\n",
    "    .flank(b=shelve_length, g=chr22_sizes_path) \\\n",
    "    .subtract(cpg_shores) \\\n",
    "    .subtract(cpg_islands) \\\n",
    "    .sort() \\\n",
    "    .merge()\n",
    "print(cpg_shelves.head())\n",
    "cpg_shelves.saveas(\"./results/cpg_shelves.bed\")"
   ]
  },
  {
   "cell_type": "markdown",
   "metadata": {},
   "source": [
    "### Compute CpG seas in BED format"
   ]
  },
  {
   "cell_type": "code",
   "execution_count": 27,
   "metadata": {},
   "outputs": [
    {
     "name": "stdout",
     "output_type": "stream",
     "text": [
      "chr1\t0\t24735\n",
      " chr1\t33810\t131124\n",
      " chr1\t139563\t323790\n",
      " chr1\t332229\t433151\n",
      " chr1\t442164\t445273\n",
      " chr1\t454544\t529219\n",
      " chr1\t538114\t540738\n",
      " chr1\t550649\t709984\n",
      " chr1\t718547\t758416\n",
      " chr1\t767445\t784863\n",
      " None\n"
     ]
    },
    {
     "data": {
      "text/plain": [
       "<BedTool(./results/cpg_seas.bed)>"
      ]
     },
     "execution_count": 27,
     "metadata": {},
     "output_type": "execute_result"
    }
   ],
   "source": [
    "non_sea_length_offset = shore_length + shelve_length\n",
    "cpg_seas = cpg_islands \\\n",
    "    .slop(b=non_sea_length_offset, g=chr22_sizes_path) \\\n",
    "    .sort() \\\n",
    "    .complement(g=chr22_sizes_path) \\\n",
    "    .sort()\n",
    "print(cpg_seas.head())\n",
    "cpg_seas.saveas(\"./results/cpg_seas.bed\")"
   ]
  },
  {
   "cell_type": "markdown",
   "metadata": {},
   "source": [
    "## Task 2:\n",
    "Set DNA Methylation coordinates as the middle of its range"
   ]
  },
  {
   "cell_type": "code",
   "execution_count": 11,
   "metadata": {},
   "outputs": [
    {
     "name": "stderr",
     "output_type": "stream",
     "text": [
      "/home/slowik/.local/lib/python3.5/site-packages/pybedtools/bedtool.py:3439: FutureWarning: read_table is deprecated, use read_csv instead, passing sep='\\t'.\n",
      "  return pandas.read_table(self.fn, *args, **kwargs)\n"
     ]
    }
   ],
   "source": [
    "dna_methylation_coords_df = pybedtools.BedTool(\"./data/wgEncodeHaibMethyl450A549Etoh02SitesRep1.bed.gz\") \\\n",
    "    .to_dataframe(header=None,\n",
    "                 usecols=range(0, 3),\n",
    "                 names=bed_col_names)\n",
    "dna_methylation_coords_df = dna_methylation_coords_df[dna_methylation_coords_df[\"chr\"].isin(autosomal_chromosomes)] \\\n",
    "    .sort_values(by=[\"chr\", \"start\"])"
   ]
  },
  {
   "cell_type": "code",
   "execution_count": 12,
   "metadata": {},
   "outputs": [
    {
     "data": {
      "text/html": [
       "<div>\n",
       "<style scoped>\n",
       "    .dataframe tbody tr th:only-of-type {\n",
       "        vertical-align: middle;\n",
       "    }\n",
       "\n",
       "    .dataframe tbody tr th {\n",
       "        vertical-align: top;\n",
       "    }\n",
       "\n",
       "    .dataframe thead th {\n",
       "        text-align: right;\n",
       "    }\n",
       "</style>\n",
       "<table border=\"1\" class=\"dataframe\">\n",
       "  <thead>\n",
       "    <tr style=\"text-align: right;\">\n",
       "      <th></th>\n",
       "      <th>chr</th>\n",
       "      <th>start</th>\n",
       "      <th>end</th>\n",
       "    </tr>\n",
       "  </thead>\n",
       "  <tbody>\n",
       "    <tr>\n",
       "      <th>256612</th>\n",
       "      <td>chr1</td>\n",
       "      <td>15890</td>\n",
       "      <td>15891</td>\n",
       "    </tr>\n",
       "    <tr>\n",
       "      <th>259522</th>\n",
       "      <td>chr1</td>\n",
       "      <td>18852</td>\n",
       "      <td>18853</td>\n",
       "    </tr>\n",
       "    <tr>\n",
       "      <th>225316</th>\n",
       "      <td>chr1</td>\n",
       "      <td>29432</td>\n",
       "      <td>29433</td>\n",
       "    </tr>\n",
       "    <tr>\n",
       "      <th>372828</th>\n",
       "      <td>chr1</td>\n",
       "      <td>29450</td>\n",
       "      <td>29451</td>\n",
       "    </tr>\n",
       "    <tr>\n",
       "      <th>8075</th>\n",
       "      <td>chr1</td>\n",
       "      <td>29460</td>\n",
       "      <td>29461</td>\n",
       "    </tr>\n",
       "  </tbody>\n",
       "</table>\n",
       "</div>"
      ],
      "text/plain": [
       "         chr  start    end\n",
       "256612  chr1  15890  15891\n",
       "259522  chr1  18852  18853\n",
       "225316  chr1  29432  29433\n",
       "372828  chr1  29450  29451\n",
       "8075    chr1  29460  29461"
      ]
     },
     "execution_count": 12,
     "metadata": {},
     "output_type": "execute_result"
    }
   ],
   "source": [
    "dna_methylation_coords_df[\"start\"] = dna_methylation_coords_df.apply(\n",
    "    lambda row: int(row[\"start\"] + (row[\"end\"] - row[\"start\"]) / 2),\n",
    "    axis=1)\n",
    "dna_methylation_coords_df[\"end\"] = dna_methylation_coords_df.apply(\n",
    "    lambda row: row[\"start\"] + 1,\n",
    "    axis=1)\n",
    "dna_methylation_coords_df.sort_values(by=[\"chr\", \"start\"], inplace=True)\n",
    "dna_methylation_coords_df.head()"
   ]
  },
  {
   "cell_type": "code",
   "execution_count": 13,
   "metadata": {},
   "outputs": [],
   "source": [
    "dna_methylation_cpg_path = \"./results/dna_methylation_cpg\"\n",
    "dna_methylation_coords_df.to_csv(dna_methylation_cpg_path, sep=\"\\t\", header=None)"
   ]
  },
  {
   "cell_type": "markdown",
   "metadata": {},
   "source": [
    "### Task 3\n",
    "Find how many DNA Methylations are located in CpG islands, Shores, Shelves and Seas and show results using chart with information about percentage and number of methylations in regions (bar plot, pie... - you can use matplotlib, seaborn, bokeh..)"
   ]
  },
  {
   "cell_type": "code",
   "execution_count": 14,
   "metadata": {},
   "outputs": [
    {
     "name": "stdout",
     "output_type": "stream",
     "text": [
      "chr1\t15890\t15891\n",
      " chr1\t18852\t18853\n",
      " chr1\t29432\t29433\n",
      " chr1\t29450\t29451\n",
      " chr1\t29460\t29461\n",
      " chr1\t68874\t68875\n",
      " chr1\t69616\t69617\n",
      " chr1\t91575\t91576\n",
      " chr1\t135277\t135278\n",
      " chr1\t449101\t449102\n",
      " None\n"
     ]
    }
   ],
   "source": [
    "dna_methylation = pybedtools.BedTool.from_dataframe(dna_methylation_coords_df).sort()\n",
    "print(dna_methylation.head())"
   ]
  },
  {
   "cell_type": "code",
   "execution_count": 15,
   "metadata": {},
   "outputs": [],
   "source": [
    "regions = {\n",
    "    \"islands\": {\n",
    "        \"data\": cpg_islands\n",
    "    },\n",
    "    \"shores\": {\n",
    "        \"data\": cpg_shores\n",
    "    },\n",
    "    \"shelves\": {\n",
    "        \"data\": cpg_shelves\n",
    "    },\n",
    "    \"seas\": {\n",
    "        \"data\": cpg_seas\n",
    "    }\n",
    "}\n",
    "\n",
    "for region_name in regions.keys():\n",
    "    regions[region_name][\"hits\"] = len(regions[region_name][\"data\"].intersect(dna_methylation))\n",
    "\n",
    "all_hits = sum([regions[name][\"hits\"] for name in regions.keys()])\n",
    "\n",
    "for region_name in regions.keys():\n",
    "    regions[region_name][\"hit_percentage\"] = regions[region_name][\"hits\"] / all_hits"
   ]
  },
  {
   "cell_type": "code",
   "execution_count": 16,
   "metadata": {},
   "outputs": [
    {
     "name": "stdout",
     "output_type": "stream",
     "text": [
      "    region  hits_perc    hits\n",
      "0   shores   0.261034  122913\n",
      "1     seas   0.361896  170406\n",
      "2  islands   0.280532  132094\n",
      "3  shelves   0.096538   45457\n"
     ]
    }
   ],
   "source": [
    "hits_df = pd.DataFrame(\n",
    "    zip(regions.keys(),\n",
    "        [regions[name][\"hit_percentage\"] for name in regions.keys()],\n",
    "        [regions[name][\"hits\"] for name in regions.keys()]),\n",
    "    columns=[\"region\", \"hits_perc\", \"hits\"]\n",
    ")\n",
    "print(hits_df)"
   ]
  },
  {
   "cell_type": "markdown",
   "metadata": {},
   "source": [
    "### Bar plot"
   ]
  },
  {
   "cell_type": "code",
   "execution_count": 17,
   "metadata": {},
   "outputs": [],
   "source": [
    "import matplotlib.pyplot as plt\n",
    "import numpy as np"
   ]
  },
  {
   "cell_type": "code",
   "execution_count": 18,
   "metadata": {},
   "outputs": [
    {
     "data": {
      "image/png": "[encoded data removed]",
      "text/plain": [
       "<Figure size 432x288 with 1 Axes>"
      ]
     },
     "metadata": {},
     "output_type": "display_data"
    }
   ],
   "source": [
    "consecutive_nums = np.arange(hits_df.shape[0])\n",
    "bar_plot = plt.bar(consecutive_nums, hits_df[\"hits\"], align=\"center\", alpha=0.5)\n",
    "plt.xticks(consecutive_nums, hits_df[\"region\"])\n",
    "plt.ylabel(\"hits\")\n",
    "plt.xlabel(\"region\")\n",
    "for ind, bar in enumerate(bar_plot):\n",
    "    x = bar.get_x() + bar.get_width() / 2\n",
    "    y = bar.get_height()\n",
    "    hits_value = bar.get_height()\n",
    "    hits_perc_value = \"{} %\".format(round(hits_df[\"hits_perc\"][ind], 2))\n",
    "    plt.text(x, y, hits_value, ha=\"center\", va=\"bottom\", rotation=0)\n",
    "    plt.text(x, y / 2, hits_perc_value, ha=\"center\", va=\"bottom\", color=\"white\")\n",
    "plt.show()"
   ]
  },
  {
   "cell_type": "code",
   "execution_count": null,
   "metadata": {},
   "outputs": [],
   "source": []
  }
 ],
 "metadata": {
  "kernelspec": {
   "display_name": "Python 3",
   "language": "python",
   "name": "python3"
  },
  "language_info": {
   "codemirror_mode": {
    "name": "ipython",
    "version": 3
   },
   "file_extension": ".py",
   "mimetype": "text/x-python",
   "name": "python",
   "nbconvert_exporter": "python",
   "pygments_lexer": "ipython3",
   "version": "3.5.2"
  }
 },
 "nbformat": 4,
 "nbformat_minor": 2
}
